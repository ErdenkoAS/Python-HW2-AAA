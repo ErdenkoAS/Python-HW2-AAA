{
  "nbformat": 4,
  "nbformat_minor": 0,
  "metadata": {
    "colab": {
      "provenance": []
    },
    "kernelspec": {
      "name": "python3",
      "display_name": "Python 3"
    },
    "language_info": {
      "name": "python"
    }
  },
  "cells": [
    {
      "cell_type": "markdown",
      "source": [
        "# ДЗ 2 - функции"
      ],
      "metadata": {
        "id": "LC96Ya1u_uBh"
      }
    },
    {
      "cell_type": "markdown",
      "source": [
        "*Эрденко Александр*"
      ],
      "metadata": {
        "id": "iUOgmP_e_oiC"
      }
    },
    {
      "cell_type": "markdown",
      "source": [
        "Есть csv-файл с отчётом о сотрудниках компании. В нём\n",
        "\n",
        "следующие данные:\n",
        "\n",
        "*   ФИО полностью\n",
        "*   Департамент\n",
        "* Команда внутри департамента\n",
        "* Занимаемая должность\n",
        "* Квартальная оценка - результат ревью\n",
        "* Текущая зарплата\n",
        "\n"
      ],
      "metadata": {
        "id": "2xDrBB7XCrdr"
      }
    },
    {
      "cell_type": "markdown",
      "source": [
        "При старте программы выводится меню, которое состоит из 3-х пунктов:\n",
        "\n",
        "Вывести в понятном виде иерархию команд, т.е. департамент и все команды, которые входят в него\n",
        "Вывести сводный отчёт по департаментам: название, численность, \"вилка\" зарплат в виде мин – макс, среднюю зарплату\n",
        "Сохранить сводный отчёт из предыдущего пункта в виде csv-файла. При этом необязательно вызывать сначала команду из п.2\n",
        "Пользователь выбирает пункт меню, вводя соответствующее число.\n",
        "\n",
        "Условия:\n",
        "\n",
        "Используем только встроенные модули (без pandas и т.д.)\n",
        "Весь скрипт разбит на функции\n",
        "Каждая функция содержит докстринги\n",
        "Бонус: все параметры аннотированы типами"
      ],
      "metadata": {
        "id": "IBla6HIf_iG-"
      }
    },
    {
      "cell_type": "code",
      "execution_count": 1,
      "metadata": {
        "id": "FVzeg-Xo-Xpk"
      },
      "outputs": [],
      "source": [
        "import csv\n",
        "from typing import List, Tuple, Dict\n",
        "from collections import defaultdict"
      ]
    },
    {
      "cell_type": "code",
      "source": [
        "def read_csv(file_name: str) -> List[Dict[str, str]]:\n",
        "    \"\"\"\n",
        "    Сначала читаем, что содержится в CSV-файле, потом возвращаем список словарей с данными\n",
        "\n",
        "    :param file_name: имя файла CSV\n",
        "    :return: список словарей с данными\n",
        "    \"\"\"\n",
        "    with open(file_name, newline='', encoding='utf-8') as csvfile:\n",
        "        reader = csv.DictReader(csvfile, delimiter=';')\n",
        "        data = [row for row in reader]\n",
        "    return data\n"
      ],
      "metadata": {
        "id": "bTx8SVhg_JQm"
      },
      "execution_count": 12,
      "outputs": []
    },
    {
      "cell_type": "markdown",
      "source": [
        "Я очень долго сидел и не понимал, где ошибка в коде. Потому что прога говорила, что не существует такого столбца как \"Команда внутри департамента\" и \"Текущая зарплата\". В самом файле называются \"Отдел\" и \"Оклад\".\n",
        "\n",
        "Пофиксите, пожалуйста))"
      ],
      "metadata": {
        "id": "N4x44x5rCP46"
      }
    },
    {
      "cell_type": "code",
      "source": [
        "def print_teams_hierarchy(data: List[Dict[str, str]]) -> None:\n",
        "    \"\"\"\n",
        "    Тут выводим иерархию команд\n",
        "\n",
        "    :param data: список словарей с данными\n",
        "    \"\"\"\n",
        "    departments = defaultdict(set)\n",
        "    for row in data:\n",
        "        departments[row['Департамент']].add(row['Отдел'])\n",
        "\n",
        "    for department, teams in departments.items():\n",
        "        print(f\"{department}:\")\n",
        "        for team in teams:\n",
        "            print(f\"  - {team}\")\n"
      ],
      "metadata": {
        "id": "rjyMEkcX_0Ha"
      },
      "execution_count": 14,
      "outputs": []
    },
    {
      "cell_type": "code",
      "source": [
        "def print_summary_report(data: List[Dict[str, str]]) -> None:\n",
        "    \"\"\"\n",
        "    Здесь выводим сводный отчёт по департаментам\n",
        "\n",
        "    :param data: список словарей с данными\n",
        "    \"\"\"\n",
        "    departments = defaultdict(lambda: {\"count\": 0, \"salaries\": []})\n",
        "    for row in data:\n",
        "        department = row['Департамент']\n",
        "        salary = int(row['Оклад'])\n",
        "        departments[department][\"count\"] += 1\n",
        "        departments[department][\"salaries\"].append(salary)\n",
        "\n",
        "    print(\"Департамент | Численность | Минимальная зарплата | Максимальная зарплата | Средняя зарплата\")\n",
        "    for department, info in departments.items():\n",
        "        min_salary = min(info[\"salaries\"])\n",
        "        max_salary = max(info[\"salaries\"])\n",
        "        avg_salary = sum(info[\"salaries\"]) / info[\"count\"]\n",
        "        print(f\"{department} | {info['count']} | {min_salary} | {max_salary} | {avg_salary:.2f}\")\n"
      ],
      "metadata": {
        "id": "_DZhU4w7AJoC"
      },
      "execution_count": 19,
      "outputs": []
    },
    {
      "cell_type": "code",
      "source": [
        "def save_summary_report(data: List[Dict[str, str]], output_file: str) -> None:\n",
        "    \"\"\"\n",
        "    Эта функция позволяет сохранить сводный отчёт по департаментам в виде CSV\n",
        "\n",
        "    :param data: список словарей с данными\n",
        "    :param output_file: имя файла для сохранения\n",
        "    \"\"\"\n",
        "    departments = defaultdict(lambda: {\"count\": 0, \"salaries\": []})\n",
        "    for row in data:\n",
        "        department = row['Департамент']\n",
        "        salary = int(row['Оклад'])\n",
        "        departments[department][\"count\"] += 1\n",
        "        departments[department][\"salaries\"].append(salary)\n",
        "\n",
        "    with open(output_file, 'w', newline='', encoding='utf-8') as csvfile:\n",
        "        fieldnames = ['Департамент', 'Численность', 'Минимальная зарплата', 'Максимальная зарплата', 'Средняя зарплата']\n",
        "        writer = csv.DictWriter(csvfile, fieldnames=fieldnames)\n",
        "        writer.writeheader()\n",
        "        for department, info in departments.items():\n",
        "            min_salary = min(info[\"salaries\"])\n",
        "            max_salary = max(info[\"salaries\"])\n",
        "            avg_salary = sum(info[\"salaries\"]) / info[\"count\"]\n",
        "            writer.writerow({'Департамент': department,\n",
        "                             'Численность': info['count'],\n",
        "                             'Минимальная зарплата': min_salary,\n",
        "                             'Максимальная зарплата': max_salary,\n",
        "                             'Средняя зарплата': f\"{avg_salary:.2f}\"})\n"
      ],
      "metadata": {
        "id": "aTVBZ50-ATFr"
      },
      "execution_count": 20,
      "outputs": []
    },
    {
      "cell_type": "code",
      "source": [
        "def main() -> None:\n",
        "    data = read_csv(\"Corp_Summary.csv\")\n",
        "\n",
        "    while True:\n",
        "        print(\"Выберите действие:\")\n",
        "        print(\"1 - Вывести иерархию команд\")\n",
        "        print(\"2 - Вывести сводный отчёт по департаментам\")\n",
        "        print(\"3 - Сохранить сводный отчёт в CSV-файл\")\n",
        "        print(\"4 - Выход\")\n",
        "\n",
        "        choice = input(\"Введите номер действия: \")\n",
        "\n",
        "        if choice == \"1\":\n",
        "            print_teams_hierarchy(data)\n",
        "        elif choice == \"2\":\n",
        "            print_summary_report(data)\n",
        "        elif choice == \"3\":\n",
        "            output_file = input(\"Введите имя файла для сохранения: \")\n",
        "            save_summary_report(data, output_file)\n",
        "            print(\"Сводный отчёт сохранён.\")\n",
        "        elif choice == \"4\":\n",
        "            break\n",
        "        else:\n",
        "            print(\"Неверный ввод, попробуйте снова.\")\n",
        "\n",
        "if __name__ == \"__main__\":\n",
        "    main()\n"
      ],
      "metadata": {
        "colab": {
          "base_uri": "https://localhost:8080/"
        },
        "id": "pSpkh8DlAfUX",
        "outputId": "6c3d07e4-eb69-4814-bbbc-f9b7128608b2"
      },
      "execution_count": 21,
      "outputs": [
        {
          "name": "stdout",
          "output_type": "stream",
          "text": [
            "Выберите действие:\n",
            "1 - Вывести иерархию команд\n",
            "2 - Вывести сводный отчёт по департаментам\n",
            "3 - Сохранить сводный отчёт в CSV-файл\n",
            "4 - Выход\n",
            "Введите номер действия: 1\n",
            "Разработка:\n",
            "  - Внутренний портал\n",
            "  - Платформа\n",
            "  - Основной продукт\n",
            "Маркетинг:\n",
            "  - Direct\n",
            "  - Performance\n",
            "Бухгалтерия:\n",
            "  - Зарплата\n",
            "  - Компенсации и льготы\n",
            "Аналитика:\n",
            "  - DWH\n",
            "  - Product\n",
            "Продажи:\n",
            "  - Госы\n",
            "  - B2B\n",
            "  - B2C\n",
            "Выберите действие:\n",
            "1 - Вывести иерархию команд\n",
            "2 - Вывести сводный отчёт по департаментам\n",
            "3 - Сохранить сводный отчёт в CSV-файл\n",
            "4 - Выход\n",
            "Введите номер действия: 2\n",
            "Департамент | Численность | Минимальная зарплата | Максимальная зарплата | Средняя зарплата\n",
            "Разработка | 47 | 56000 | 124900 | 91891.49\n",
            "Маркетинг | 38 | 55500 | 124300 | 94202.63\n",
            "Бухгалтерия | 41 | 56100 | 124900 | 92941.46\n",
            "Аналитика | 34 | 55200 | 122800 | 89008.82\n",
            "Продажи | 40 | 55700 | 122100 | 89307.50\n",
            "Выберите действие:\n",
            "1 - Вывести иерархию команд\n",
            "2 - Вывести сводный отчёт по департаментам\n",
            "3 - Сохранить сводный отчёт в CSV-файл\n",
            "4 - Выход\n",
            "Введите номер действия: 3\n",
            "Введите имя файла для сохранения: test\n",
            "Сводный отчёт сохранён.\n",
            "Выберите действие:\n",
            "1 - Вывести иерархию команд\n",
            "2 - Вывести сводный отчёт по департаментам\n",
            "3 - Сохранить сводный отчёт в CSV-файл\n",
            "4 - Выход\n",
            "Введите номер действия: 4\n"
          ]
        }
      ]
    }
  ]
}